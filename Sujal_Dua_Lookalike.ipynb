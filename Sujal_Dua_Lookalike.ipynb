{
  "nbformat": 4,
  "nbformat_minor": 0,
  "metadata": {
    "colab": {
      "provenance": []
    },
    "kernelspec": {
      "name": "python3",
      "display_name": "Python 3"
    },
    "language_info": {
      "name": "python"
    }
  },
  "cells": [
    {
      "cell_type": "markdown",
      "source": [
        "**1. Data Preparation**\n",
        "\n",
        "**Load Data:** Import the Customers.csv, Products.csv, and Transactions.csv files into your Python environment using pandas.\n",
        "\n",
        "**Merge Datasets:** Combine the datasets to create a comprehensive view of each customer's transaction history."
      ],
      "metadata": {
        "id": "zCaKAafT4-WA"
      }
    },
    {
      "cell_type": "code",
      "execution_count": 1,
      "metadata": {
        "id": "9H8OskGJ3rzp"
      },
      "outputs": [],
      "source": [
        "import pandas as pd\n",
        "\n",
        "# Load datasets\n",
        "customers = pd.read_csv('/content/Customers.csv')\n",
        "products = pd.read_csv('/content/Products.csv')\n",
        "transactions = pd.read_csv('/content/Transactions.csv')\n",
        "\n",
        "# Merge datasets\n",
        "merged_data = transactions.merge(customers, on='CustomerID', how='left')\n",
        "merged_data = merged_data.merge(products, on='ProductID', how='left')\n"
      ]
    },
    {
      "cell_type": "markdown",
      "source": [
        "**2. Feature Engineering**\n",
        "\n",
        "**Customer Profile Features:**\n",
        "**Region:** Encode the 'Region' feature using one-hot encoding.\n",
        "\n",
        "**Signup Date:** Extract features such as 'Signup Year' and 'Signup Month'.\n",
        "\n",
        "\n",
        "**Transaction History Features:**\n",
        "\n",
        "**Total Spend:** Calculate the total amount spent by each customer.\n",
        "\n",
        "**Purchase Frequency:**Determine the number of transactions made by each customer.\n",
        "\n",
        "**Average Order Value:** Compute the average transaction value for each customer.\n",
        "\n",
        "**Product Categories Purchased:** Identify the variety of product categories each customer has purchased."
      ],
      "metadata": {
        "id": "0LqL175a5GT4"
      }
    },
    {
      "cell_type": "code",
      "source": [
        "# Convert 'SignupDate' to datetime\n",
        "customers['SignupDate'] = pd.to_datetime(customers['SignupDate'])\n",
        "\n",
        "# Extract 'Signup Year' and 'Signup Month'\n",
        "customers['SignupYear'] = customers['SignupDate'].dt.year\n",
        "customers['SignupMonth'] = customers['SignupDate'].dt.month\n",
        "\n",
        "# One-hot encode 'Region'\n",
        "customers = pd.get_dummies(customers, columns=['Region'])\n",
        "\n",
        "# Calculate transaction-based features\n",
        "customer_transactions = merged_data.groupby('CustomerID').agg({\n",
        "    'TotalValue': ['sum', 'count', 'mean'],\n",
        "    'Category': lambda x: x.nunique()\n",
        "}).reset_index()\n",
        "\n",
        "# Rename columns\n",
        "customer_transactions.columns = ['CustomerID', 'TotalSpend', 'PurchaseFrequency', 'AvgOrderValue', 'UniqueCategoriesPurchased']\n",
        "\n",
        "# Merge with customer profile data\n",
        "customer_profiles = customers.merge(customer_transactions, on='CustomerID', how='left')\n"
      ],
      "metadata": {
        "id": "EnGKRboJ3_Vi"
      },
      "execution_count": 2,
      "outputs": []
    },
    {
      "cell_type": "markdown",
      "source": [
        "**3. Similarity Computation**\n",
        "\n",
        "**Normalize Features:** Standardize the numerical features to have a mean of 0 and a standard deviation of 1.\n",
        "\n",
        "**Compute Similarity:**Use the cosine similarity metric to measure the similarity between customers."
      ],
      "metadata": {
        "id": "b6xWBjkD5J_j"
      }
    },
    {
      "cell_type": "code",
      "source": [
        "from sklearn.preprocessing import StandardScaler\n",
        "from sklearn.metrics.pairwise import cosine_similarity\n",
        "\n",
        "# Select features for similarity computation\n",
        "features = ['SignupYear', 'SignupMonth', 'TotalSpend', 'PurchaseFrequency', 'AvgOrderValue', 'UniqueCategoriesPurchased'] + \\\n",
        "           [col for col in customer_profiles.columns if col.startswith('Region_')]\n",
        "\n",
        "# Fill missing values with 0\n",
        "customer_profiles[features] = customer_profiles[features].fillna(0)\n",
        "\n",
        "# Standardize features\n",
        "scaler = StandardScaler()\n",
        "standardized_features = scaler.fit_transform(customer_profiles[features])\n",
        "\n",
        "# Compute cosine similarity matrix\n",
        "similarity_matrix = cosine_similarity(standardized_features)\n"
      ],
      "metadata": {
        "id": "ML8Jq60z4BHV"
      },
      "execution_count": 3,
      "outputs": []
    },
    {
      "cell_type": "markdown",
      "source": [
        "**4. Generate Lookalike Recommendations**\n",
        "\n",
        "**Identify Top 3 Lookalikes:** For each target customer, find the top 3 most similar customers based on the similarity scores."
      ],
      "metadata": {
        "id": "X-iBzMWb5L4h"
      }
    },
    {
      "cell_type": "code",
      "source": [
        "import pandas as pd\n",
        "import numpy as np\n",
        "from sklearn.preprocessing import StandardScaler\n",
        "from sklearn.metrics.pairwise import cosine_similarity\n",
        "\n",
        "# Assuming customer_profiles DataFrame is already created and preprocessed\n",
        "\n",
        "# Select features for similarity computation\n",
        "features = ['SignupYear', 'SignupMonth', 'TotalSpend', 'PurchaseFrequency', 'AvgOrderValue', 'UniqueCategoriesPurchased'] + \\\n",
        "           [col for col in customer_profiles.columns if col.startswith('Region_')]\n",
        "\n",
        "# Fill missing values with 0\n",
        "customer_profiles[features] = customer_profiles[features].fillna(0)\n",
        "\n",
        "# Standardize features\n",
        "scaler = StandardScaler()\n",
        "standardized_features = scaler.fit_transform(customer_profiles[features])\n",
        "\n",
        "# Compute cosine similarity matrix\n",
        "similarity_matrix = cosine_similarity(standardized_features)\n",
        "\n",
        "# Create a DataFrame to store lookalike recommendations\n",
        "lookalike_recommendations = pd.DataFrame(columns=['CustomerID', 'Lookalike1', 'Score1', 'Lookalike2', 'Score2', 'Lookalike3', 'Score3'])\n",
        "\n",
        "# Iterate over the first 20 customers\n",
        "for idx in range(20):\n",
        "    customer_id = customer_profiles.iloc[idx]['CustomerID']\n",
        "    similarity_scores = similarity_matrix[idx]\n",
        "    # Exclude the customer itself by setting its similarity score to -1\n",
        "    similarity_scores[idx] = -1\n",
        "    # Get indices of top 3 similar customers\n",
        "    top_indices = np.argsort(similarity_scores)[-3:][::-1]\n",
        "    # Get corresponding customer IDs and similarity scores\n",
        "    lookalikes = customer_profiles.iloc[top_indices]['CustomerID'].values\n",
        "    scores = similarity_scores[top_indices]\n",
        "    # Create a DataFrame for the new row\n",
        "    new_row = pd.DataFrame({\n",
        "        'CustomerID': [customer_id],\n",
        "        'Lookalike1': [lookalikes[0]],\n",
        "        'Score1': [scores[0]],\n",
        "        'Lookalike2': [lookalikes[1]],\n",
        "        'Score2': [scores[1]],\n",
        "        'Lookalike3': [lookalikes[2]],\n",
        "        'Score3': [scores[2]]\n",
        "    })\n",
        "    # Drop all-NA columns from the new_row DataFrame\n",
        "    new_row = new_row.dropna(axis=1, how='all')\n",
        "    # Concatenate the new row to the recommendations DataFrame\n",
        "    lookalike_recommendations = pd.concat([lookalike_recommendations, new_row], ignore_index=True)\n",
        "\n",
        "# Save to 'Lookalike.csv'\n",
        "lookalike_recommendations.to_csv('Lookalike.csv', index=False)\n"
      ],
      "metadata": {
        "colab": {
          "base_uri": "https://localhost:8080/"
        },
        "id": "QXbe3TY-4H0K",
        "outputId": "242fc710-1177-43c1-ec07-0f1b4a8a44c3"
      },
      "execution_count": 8,
      "outputs": [
        {
          "output_type": "stream",
          "name": "stderr",
          "text": [
            "<ipython-input-8-0458e3ac2eed>:49: FutureWarning: The behavior of DataFrame concatenation with empty or all-NA entries is deprecated. In a future version, this will no longer exclude empty or all-NA columns when determining the result dtypes. To retain the old behavior, exclude the relevant entries before the concat operation.\n",
            "  lookalike_recommendations = pd.concat([lookalike_recommendations, new_row], ignore_index=True)\n"
          ]
        }
      ]
    }
  ]
}